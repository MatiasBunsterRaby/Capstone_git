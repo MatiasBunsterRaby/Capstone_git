{
 "cells": [
  {
   "cell_type": "markdown",
   "metadata": {},
   "source": [
    "#### Notebook 'Tempo'"
   ]
  },
  {
   "cell_type": "code",
   "execution_count": null,
   "metadata": {},
   "outputs": [],
   "source": [
    "# Carga de librerías\n",
    "import pandas as pd\n",
    "import numpy as np\n",
    "import matplotlib.pyplot as plt\n",
    "import seaborn as sns\n",
    "from sklearn.decomposition import PCA\n",
    "from sklearn.cluster import KMeans\n",
    "from itertools import combinations\n",
    "from collections import Counter\n",
    "import networkx as nx\n",
    "from pyvis.network import Network\n"
   ]
  },
  {
   "cell_type": "code",
   "execution_count": null,
   "metadata": {},
   "outputs": [],
   "source": [
    "# Cargar datasets\n",
    "df_aspectos = pd.read_excel('./data/Analytical_Data.xlsx')  # Actualiza la ruta si es necesario\n",
    "df = pd.read_excel('./data/MP_Dataset_KMeans_mean.xlsx')  # Dataset principal\n",
    "\n",
    "# Verificar los datos\n",
    "print(\"Datos cargados:\")\n",
    "display(df.head())\n",
    "display(df_aspectos.head())\n"
   ]
  },
  {
   "cell_type": "markdown",
   "metadata": {},
   "source": [
    "#### Paso 3: Definición de Funciones"
   ]
  },
  {
   "cell_type": "markdown",
   "metadata": {},
   "source": [
    "##### Preparar Datos"
   ]
  },
  {
   "cell_type": "code",
   "execution_count": null,
   "metadata": {},
   "outputs": [],
   "source": [
    "def preparar_datos(df, df_aspectos, aspecto_filtro, desde, hasta):\n",
    "    variables = df_aspectos[df_aspectos['aspecto'] == aspecto_filtro][['var_1', 'var_2', 'var_3', 'var_4', 'var_5']].dropna().values.flatten()\n",
    "    df_periodo = df[(df['agno'] >= desde) & (df['agno'] <= hasta)]\n",
    "    return df_periodo, variables\n"
   ]
  },
  {
   "cell_type": "markdown",
   "metadata": {},
   "source": [
    "##### Filtrar y Normalizar"
   ]
  },
  {
   "cell_type": "code",
   "execution_count": null,
   "metadata": {},
   "outputs": [],
   "source": [
    "def filtrar_normalizar(df_periodo, variables):\n",
    "    df_filtered = df_periodo[['countryname', 'agno'] + list(variables)].copy()\n",
    "    df_filtered.dropna(inplace=True)\n",
    "    columns_per = variables\n",
    "    df_filtered['per_sum'] = df_filtered[columns_per].sum(axis=1)\n",
    "    rows_to_normalize = df_filtered['per_sum'] != 1.0\n",
    "    df_filtered.loc[rows_to_normalize, columns_per] = df_filtered.loc[rows_to_normalize, columns_per].div(\n",
    "        df_filtered.loc[rows_to_normalize, 'per_sum'], axis=0\n",
    "    )\n",
    "    df_filtered.drop(columns=['per_sum'], inplace=True)\n",
    "    return df_filtered\n"
   ]
  },
  {
   "cell_type": "markdown",
   "metadata": {},
   "source": [
    "##### PCA y K-MEANS"
   ]
  },
  {
   "cell_type": "code",
   "execution_count": null,
   "metadata": {},
   "outputs": [],
   "source": [
    "def ejecutar_pca_kmeans(df_filtered, variables, n_components=3, optimal_k=3):\n",
    "    numeric_data = df_filtered[variables]\n",
    "    pca = PCA(n_components=n_components)\n",
    "    pca_components = pca.fit_transform(numeric_data)\n",
    "    pca_df = pd.DataFrame(pca_components, columns=[f'PC{i+1}' for i in range(n_components)])\n",
    "    df_pca = pd.concat([df_filtered[['countryname', 'agno']].reset_index(drop=True), pca_df.reset_index(drop=True)], axis=1)\n",
    "    \n",
    "    # Aplicar K-Means\n",
    "    kmeans = KMeans(n_clusters=optimal_k, random_state=42)\n",
    "    df_pca['cluster'] = kmeans.fit_predict(df_pca[[f'PC{i+1}' for i in range(n_components)]])\n",
    "    return df_pca, pca\n"
   ]
  },
  {
   "cell_type": "markdown",
   "metadata": {},
   "source": [
    "##### Matriz de coincidencias"
   ]
  },
  {
   "cell_type": "code",
   "execution_count": null,
   "metadata": {},
   "outputs": [],
   "source": [
    "def construir_matriz_coincidencias(resultados_temporales):\n",
    "    coincidencias = Counter()\n",
    "    for clusters in resultados_temporales.values():\n",
    "        for cluster in clusters.values():\n",
    "            for pair in combinations(sorted(cluster), 2):\n",
    "                coincidencias[pair] += 1\n",
    "\n",
    "    # Convertir a matriz\n",
    "    paises = sorted(set([p for pair in coincidencias.keys() for p in pair]))\n",
    "    coincidence_matrix = pd.DataFrame(0, index=paises, columns=paises)\n",
    "\n",
    "    for (p1, p2), count in coincidencias.items():\n",
    "        coincidence_matrix.loc[p1, p2] = count\n",
    "        coincidence_matrix.loc[p2, p1] = count\n",
    "\n",
    "    return coincidence_matrix\n"
   ]
  },
  {
   "cell_type": "markdown",
   "metadata": {},
   "source": [
    "##### Visualización del grafo"
   ]
  },
  {
   "cell_type": "code",
   "execution_count": null,
   "metadata": {},
   "outputs": [],
   "source": [
    "def grafo_coincidencias(coincidence_matrix):\n",
    "    # Crear el grafo\n",
    "    G = nx.Graph()\n",
    "    for i, row in coincidence_matrix.iterrows():\n",
    "        for j, value in row.iteritems():\n",
    "            if value > 0:  # Agregar conexiones con peso mayor a 0\n",
    "                G.add_edge(i, j, weight=value)\n",
    "\n",
    "    # Convertir a grafo interactivo con PyVis\n",
    "    net = Network(notebook=True, height=\"750px\", width=\"100%\")\n",
    "    net.from_nx(G)\n",
    "    net.show(\"grafo_coincidencias.html\")\n"
   ]
  },
  {
   "cell_type": "markdown",
   "metadata": {},
   "source": [
    "#### Ejecución para Múltiples Períodos"
   ]
  },
  {
   "cell_type": "code",
   "execution_count": null,
   "metadata": {},
   "outputs": [],
   "source": [
    "# Definir períodos\n",
    "periodos = [(1970, 1972), (1973, 1975), ..., (2019, 2022)]\n",
    "\n",
    "resultados_temporales = {}\n",
    "\n",
    "for desde, hasta in periodos:\n",
    "    df_periodo, variables = preparar_datos(df, df_aspectos, 'DROGAS_Y_CORRUPCIÓN', desde, hasta)\n",
    "    df_filtered = filtrar_normalizar(df_periodo, variables)\n",
    "    df_pca, pca = ejecutar_pca_kmeans(df_filtered, variables)\n",
    "    \n",
    "    # Almacenar los países en cada clúster\n",
    "    clusters = {}\n",
    "    for cluster in df_pca['cluster'].unique():\n",
    "        clusters[cluster] = df_pca[df_pca['cluster'] == cluster]['countryname'].unique()\n",
    "    resultados_temporales[f\"{desde}-{hasta}\"] = clusters\n",
    "\n",
    "# Construir y visualizar la matriz de coincidencias\n",
    "coincidence_matrix = construir_matriz_coincidencias(resultados_temporales)\n",
    "grafo_coincidencias(coincidence_matrix)\n"
   ]
  }
 ],
 "metadata": {
  "kernelspec": {
   "display_name": "DatascienceUDD",
   "language": "python",
   "name": "python3"
  },
  "language_info": {
   "name": "python",
   "version": "3.8.18"
  }
 },
 "nbformat": 4,
 "nbformat_minor": 2
}
